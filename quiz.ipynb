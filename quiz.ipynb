{
 "cells": [
  {
   "cell_type": "markdown",
   "metadata": {},
   "source": [
    "## Welcome"
   ]
  },
  {
   "cell_type": "code",
   "execution_count": 2,
   "metadata": {},
   "outputs": [],
   "source": [
    "import pandas as pd\n",
    "import numpy as np\n",
    "from sklearn.datasets import make_classification\n",
    "\n",
    "import random\n",
    "random.seed(1337)"
   ]
  },
  {
   "cell_type": "markdown",
   "metadata": {},
   "source": [
    "## Instruction\n",
    "Please go through question listed below (adding new cells if required), please provide comments to justify your models"
   ]
  },
  {
   "cell_type": "code",
   "execution_count": 5,
   "metadata": {},
   "outputs": [],
   "source": [
    "# creating a classification model with 2 classes and 2 features\n",
    "X, y = make_classification(n_samples= 200, n_classes=2, n_features=2, \n",
    "                           n_redundant = 0, n_informative = 2,\n",
    "                           n_clusters_per_class = 1, \n",
    "                           weights = (0.95, 0.05))"
   ]
  },
  {
   "cell_type": "markdown",
   "metadata": {},
   "source": [
    "**Q1.** The above code creates a biased dataset with 2 classes. Please visualise the classes using scatter plot below."
   ]
  },
  {
   "cell_type": "code",
   "execution_count": null,
   "metadata": {},
   "outputs": [],
   "source": [
    "%matplotlib inline\n",
    "from matplotlib import pyplot as plt\n",
    "\n",
    "fig, ax = plt.subplots()\n",
    "fig.set_size_inches(10.5, 5.5)\n",
    "\n",
    "#Example:\n",
    "#ax.scatter(x = (x values), y = (y values), c= (colour), alpha = (transparency), label=(label))\n",
    "\n",
    "##############\n",
    "#  Code here #\n",
    "##############\n",
    "\n",
    "ax.set_title('sample 2 dimension dataset')\n",
    "ax.set_xlabel('x1')\n",
    "ax.set_ylabel('x2')\n",
    "ax.legend()"
   ]
  },
  {
   "cell_type": "markdown",
   "metadata": {},
   "source": [
    "**Q1.1** How would you visualise this when n_features is greater than 2?\n",
    "\n",
    "Answer: **Provide Answer Here**\n",
    "    "
   ]
  },
  {
   "cell_type": "markdown",
   "metadata": {},
   "source": [
    "**Q2.** Write a supervised classification model to predict the *minority class*"
   ]
  },
  {
   "cell_type": "code",
   "execution_count": 12,
   "metadata": {},
   "outputs": [],
   "source": [
    "# reference libraries\n",
    "from sklearn.model_selection import train_test_split\n",
    "from sklearn.preprocessing import StandardScaler\n",
    "from sklearn.pipeline import Pipeline\n",
    "from sklearn.model_selection import cross_val_score\n",
    "from sklearn.model_selection import cross_val_predict\n",
    "from sklearn.metrics import confusion_matrix\n",
    "\n",
    "## populate ??? with code\n",
    "\n",
    "# Split train and test\n",
    "X_train, X_test, y_train, y_test = ???\n",
    "\n",
    "# instantiate model\n",
    "??? = ???\n",
    "\n",
    "# pipeline \n",
    "model_pipeline = Pipeline([\n",
    "    (\"scaler\", ???),\n",
    "    (\"model\", ???) \n",
    "])\n",
    "\n",
    "# fit model\n",
    "model_pipeline.fit(???)\n",
    "\n",
    "########################\n",
    "#  Provide measures and confusion matrix\n",
    "########################\n",
    "score = ????\n",
    "\n",
    "confusion_matrix = ????\n",
    "# Print results."
   ]
  },
  {
   "cell_type": "markdown",
   "metadata": {},
   "source": [
    "**Q2.1** In the model you have selected. Please list which hyperparamter you will use to reduce overfit.\n",
    "\n",
    "Answer: **Provide Answer Here**"
   ]
  },
  {
   "cell_type": "markdown",
   "metadata": {},
   "source": [
    "**Q3.** Treating records in the *minority class* as anomalies,  please write an anomaly detection/unsupervised model to detect those records."
   ]
  },
  {
   "cell_type": "code",
   "execution_count": 13,
   "metadata": {},
   "outputs": [],
   "source": [
    "# https://scikit-learn.org/stable/modules/outlier_detection.html\n",
    "\n",
    "##############\n",
    "#  Code here #\n",
    "##############"
   ]
  },
  {
   "cell_type": "markdown",
   "metadata": {},
   "source": [
    "**Q4.** Visualise anomalies detect on scatter plot from Q1"
   ]
  },
  {
   "cell_type": "code",
   "execution_count": 14,
   "metadata": {},
   "outputs": [],
   "source": [
    "##############\n",
    "#  Code here #\n",
    "##############"
   ]
  },
  {
   "cell_type": "markdown",
   "metadata": {},
   "source": [
    "**Q6.** Implementing KNN in pseudo code or python. (what is the computational complexity?)"
   ]
  },
  {
   "cell_type": "markdown",
   "metadata": {},
   "source": []
  }
 ],
 "metadata": {
  "kernelspec": {
   "display_name": "Python 3",
   "language": "python",
   "name": "python3"
  },
  "language_info": {
   "codemirror_mode": {
    "name": "ipython",
    "version": 3
   },
   "file_extension": ".py",
   "mimetype": "text/x-python",
   "name": "python",
   "nbconvert_exporter": "python",
   "pygments_lexer": "ipython3",
   "version": "3.6.9"
  }
 },
 "nbformat": 4,
 "nbformat_minor": 4
}
